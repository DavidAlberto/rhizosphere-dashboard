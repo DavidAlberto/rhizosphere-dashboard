{
 "cells": [
  {
   "cell_type": "code",
   "execution_count": 1,
   "id": "5577f501-aed0-4cb1-b22f-1b18c554e8ab",
   "metadata": {},
   "outputs": [
    {
     "data": {
      "text/html": [
       "        <script type=\"text/javascript\">\n",
       "        window.PlotlyConfig = {MathJaxConfig: 'local'};\n",
       "        if (window.MathJax && window.MathJax.Hub && window.MathJax.Hub.Config) {window.MathJax.Hub.Config({SVG: {font: \"STIX-Web\"}});}\n",
       "        if (typeof require !== 'undefined') {\n",
       "        require.undef(\"plotly\");\n",
       "        requirejs.config({\n",
       "            paths: {\n",
       "                'plotly': ['https://cdn.plot.ly/plotly-2.35.2.min']\n",
       "            }\n",
       "        });\n",
       "        require(['plotly'], function(Plotly) {\n",
       "            window._Plotly = Plotly;\n",
       "        });\n",
       "        }\n",
       "        </script>\n",
       "        "
      ]
     },
     "metadata": {},
     "output_type": "display_data"
    },
    {
     "data": {
      "text/html": [
       "        <script type=\"text/javascript\">\n",
       "        window.PlotlyConfig = {MathJaxConfig: 'local'};\n",
       "        if (window.MathJax && window.MathJax.Hub && window.MathJax.Hub.Config) {window.MathJax.Hub.Config({SVG: {font: \"STIX-Web\"}});}\n",
       "        if (typeof require !== 'undefined') {\n",
       "        require.undef(\"plotly\");\n",
       "        requirejs.config({\n",
       "            paths: {\n",
       "                'plotly': ['https://cdn.plot.ly/plotly-2.35.2.min']\n",
       "            }\n",
       "        });\n",
       "        require(['plotly'], function(Plotly) {\n",
       "            window._Plotly = Plotly;\n",
       "        });\n",
       "        }\n",
       "        </script>\n",
       "        "
      ]
     },
     "metadata": {},
     "output_type": "display_data"
    },
    {
     "data": {
      "application/vnd.jupyter.widget-view+json": {
       "model_id": "2855c77778f64f0887b3cec5c68261d0",
       "version_major": 2,
       "version_minor": 0
      },
      "text/plain": [
       "IntSlider(value=30, continuous_update=False, description='Bins:', min=10, step=5)"
      ]
     },
     "metadata": {},
     "output_type": "display_data"
    }
   ],
   "source": [
    "# Importar las librerías necesarias\n",
    "import plotly.express as px\n",
    "import numpy as np\n",
    "import ipywidgets as widgets\n",
    "from IPython.display import display\n",
    "from plotly import offline\n",
    "offline.init_notebook_mode(connected=True)\n",
    "\n",
    "\n",
    "# Inicializar modo offline de Plotly\n",
    "offline.init_notebook_mode(connected=True)\n",
    "\n",
    "# Generar datos aleatorios\n",
    "np.random.seed(42)\n",
    "data = np.random.randn(1000)\n",
    "\n",
    "# Función para actualizar el histograma\n",
    "def update_histogram(nbins):\n",
    "    fig = px.histogram(data, nbins=nbins, title=f'Histogram with {nbins} Bins')\n",
    "    fig.show()  # Mostrar el gráfico\n",
    "\n",
    "# Crear un slider (control deslizante)\n",
    "bin_slider = widgets.IntSlider(\n",
    "    value=30,  # Valor inicial\n",
    "    min=10,    # Valor mínimo\n",
    "    max=100,   # Valor máximo\n",
    "    step=5,    # Incrementos del slider\n",
    "    description='Bins:',  # Texto del control\n",
    "    continuous_update=False  # Actualización continua deshabilitada para mejorar rendimiento\n",
    ")\n",
    "\n",
    "# Conectar el slider a la función que actualiza el histograma\n",
    "widgets.interactive(update_histogram, nbins=bin_slider)\n",
    "\n",
    "# Mostrar el slider en el notebook\n",
    "display(bin_slider)"
   ]
  },
  {
   "cell_type": "code",
   "execution_count": null,
   "id": "fb62717e-eca7-4cc4-b41b-2142dd22d6e9",
   "metadata": {},
   "outputs": [],
   "source": []
  },
  {
   "cell_type": "code",
   "execution_count": null,
   "id": "3f323402-cd13-405b-a6fd-e278ec6715f5",
   "metadata": {},
   "outputs": [],
   "source": []
  },
  {
   "cell_type": "code",
   "execution_count": null,
   "id": "54a70109-b4d5-4639-b582-69ee50a0aee6",
   "metadata": {},
   "outputs": [],
   "source": []
  }
 ],
 "metadata": {
  "kernelspec": {
   "display_name": "Python 3 (ipykernel)",
   "language": "python",
   "name": "python3"
  },
  "language_info": {
   "codemirror_mode": {
    "name": "ipython",
    "version": 3
   },
   "file_extension": ".py",
   "mimetype": "text/x-python",
   "name": "python",
   "nbconvert_exporter": "python",
   "pygments_lexer": "ipython3",
   "version": "3.10.15"
  }
 },
 "nbformat": 4,
 "nbformat_minor": 5
}
